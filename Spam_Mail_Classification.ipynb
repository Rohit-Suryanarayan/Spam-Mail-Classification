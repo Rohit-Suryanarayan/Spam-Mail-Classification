{
  "nbformat": 4,
  "nbformat_minor": 0,
  "metadata": {
    "colab": {
      "name": "Spam Mail Classification.ipynb",
      "provenance": []
    },
    "kernelspec": {
      "name": "python3",
      "display_name": "Python 3"
    },
    "language_info": {
      "name": "python"
    }
  },
  "cells": [
    {
      "cell_type": "code",
      "metadata": {
        "id": "-hNVS8jjnOc5"
      },
      "source": [
        "import pandas as pd\n",
        "from nltk.stem import WordNetLemmatizer\n",
        "from nltk.corpus import stopwords\n",
        "from nltk import pos_tag, word_tokenize\n",
        "from sklearn.feature_extraction.text import TfidfVectorizer\n",
        "import numpy as np"
      ],
      "execution_count": 3,
      "outputs": []
    },
    {
      "cell_type": "code",
      "metadata": {
        "id": "vxk4CqeXnqjb"
      },
      "source": [
        "data = pd.read_csv(\"spamdata.csv\")\n",
        "print(data.head(15))"
      ],
      "execution_count": null,
      "outputs": []
    },
    {
      "cell_type": "code",
      "metadata": {
        "id": "TG0hTxRZnvdH"
      },
      "source": [
        "lemmatizer = WordNetLemmatizer()\n",
        "# removing stopwords\n",
        "stopwords = set(stopwords.words('english'))"
      ],
      "execution_count": null,
      "outputs": []
    },
    {
      "cell_type": "code",
      "metadata": {
        "id": "NiYCHKS9n1mo"
      },
      "source": [
        "def review_messages(msg):\n",
        "  # converting messages to lowercase\n",
        "  msg = msg.lower()\n",
        "  return msg"
      ],
      "execution_count": null,
      "outputs": []
    },
    {
      "cell_type": "code",
      "metadata": {
        "id": "r8ZYicr_n_OK"
      },
      "source": [
        "# Processing text \n",
        "messagesdata['text'] = data['text'].apply(review_messages)\n",
        "# training vectorizer using TF-IDF\n",
        "vectorizer = TfidfVectorizer()\n",
        "df = vectorizer.fit_transform(data['text'])"
      ],
      "execution_count": null,
      "outputs": []
    },
    {
      "cell_type": "code",
      "metadata": {
        "id": "odDyGDpYoNx8"
      },
      "source": [
        "#we are using svm for classification inbuilt libararyof sklearn is allowed if we use svm\n",
        "from sklearn import svm\n",
        "classifier = svm.SVC()\n",
        "#Split data into 80% training & 20% testing data sets\n",
        "from sklearn.model_selection import train_test_split\n",
        "X_train, X_test, y_train, y_test = train_test_split(df,data['label'], test_size = 0.20, random_state= 0)"
      ],
      "execution_count": null,
      "outputs": []
    },
    {
      "cell_type": "code",
      "metadata": {
        "id": "Oe2r1K4yokGD"
      },
      "source": [
        "#accuracy of our model\n",
        "from sklearn.metrics import classification_report,confusion_matrix,accuracy_score\n",
        "pred = classifier.predict(X_test)\n",
        "print(classification_report(y_test ,pred ))\n",
        "print('Confusion Matrix: \\n', confusion_matrix(y_test,pred))\n",
        "print()\n",
        "print('Accuracy: ', accuracy_score(y_test,pred))"
      ],
      "execution_count": null,
      "outputs": []
    },
    {
      "cell_type": "code",
      "metadata": {
        "id": "wQR7O8GQoxZp"
      },
      "source": [
        "#function to test future mails\n",
        "def classify_new_mail(msg):\n",
        "  msg = vectorizer.transform([msg])\n",
        "  prediction = classifier.predict(msg)\n",
        "  if prediction[0] == 'ham':\n",
        "    return 0\n",
        "  return 1"
      ],
      "execution_count": null,
      "outputs": []
    },
    {
      "cell_type": "code",
      "metadata": {
        "colab": {
          "base_uri": "https://localhost:8080/",
          "height": 134
        },
        "id": "626MeCMeo88W",
        "outputId": "edf60ef3-1386-4db3-d727-aac8f8b854b0"
      },
      "source": [
        "import ospath = \"/home/piyush316/Downloads/PRML_assignment3/PRML_assignment3/test\"\n",
        "import osdir_ = os.getcwd()\n",
        "cur_dir = os.getcwd()\n",
        "print(cur_dir)\n",
        "os.chdir(path)\n",
        "for file in os.listdir(cur_dir):\n",
        "  if file.endswith(\".txt\"):\n",
        "    print(file)\n",
        "    f = open(file, 'r')\n",
        "    text = f.read()\n",
        "    print(classify_new_mail(text))\n",
        "    continue\n",
        "  else:\n",
        "    pass"
      ],
      "execution_count": 4,
      "outputs": [
        {
          "output_type": "error",
          "ename": "SyntaxError",
          "evalue": "ignored",
          "traceback": [
            "\u001b[0;36m  File \u001b[0;32m\"<ipython-input-4-1f63bddfe456>\"\u001b[0;36m, line \u001b[0;32m1\u001b[0m\n\u001b[0;31m    import ospath = \"/home/piyush316/Downloads/PRML_assignment3/PRML_assignment3/test\"\u001b[0m\n\u001b[0m                  ^\u001b[0m\n\u001b[0;31mSyntaxError\u001b[0m\u001b[0;31m:\u001b[0m invalid syntax\n"
          ]
        }
      ]
    }
  ]
}